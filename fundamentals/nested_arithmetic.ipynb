{
 "cells": [
  {
   "cell_type": "markdown",
   "metadata": {},
   "source": [
    "# Nested Arithmetic"
   ]
  },
  {
   "cell_type": "markdown",
   "metadata": {},
   "source": [
    "The point of this notebook is to investigate the absolute error and relative error of using nested arithmetic for numerical computations. In this example, we need to find the root of the equation $ f(x) = x^3 + 4x^2 - 10 $ using the Bisection Method."
   ]
  },
  {
   "cell_type": "markdown",
   "metadata": {},
   "source": [
    "## Absolute and Relative Error"
   ]
  },
  {
   "cell_type": "code",
   "execution_count": 1,
   "metadata": {},
   "outputs": [],
   "source": [
    "def error_analysis(true_fx, approx_fx):\n",
    "    absolute_error = abs(approx_fx - true_fx)\n",
    "    relative_error = absolute_error / abs(true_fx)\n",
    "    return absolute_error, relative_error"
   ]
  },
  {
   "cell_type": "markdown",
   "metadata": {},
   "source": [
    "## Bisection Method"
   ]
  },
  {
   "cell_type": "code",
   "execution_count": 13,
   "metadata": {},
   "outputs": [],
   "source": [
    "def bisection_method(a,b):\n",
    "    f = lambda x: (x ** 3) + (4 * (x ** 2)) - 10\n",
    "    if f(a) * f(b) < 0:\n",
    "        i = 0\n",
    "        while (b - a) / 2 > 1e-7:\n",
    "            c = (a + b) / 2\n",
    "            if f(a) * f(c) < 0:\n",
    "                b = c\n",
    "            else:\n",
    "                a = c\n",
    "            print(f'{i+1}:\\troot = {c:.9f}')\n",
    "            i += 1"
   ]
  },
  {
   "cell_type": "code",
   "execution_count": 14,
   "metadata": {},
   "outputs": [
    {
     "name": "stdout",
     "output_type": "stream",
     "text": [
      "1:\troot = 1.500000000\n",
      "2:\troot = 1.250000000\n",
      "3:\troot = 1.375000000\n",
      "4:\troot = 1.312500000\n",
      "5:\troot = 1.343750000\n",
      "6:\troot = 1.359375000\n",
      "7:\troot = 1.367187500\n",
      "8:\troot = 1.363281250\n",
      "9:\troot = 1.365234375\n",
      "10:\troot = 1.364257812\n",
      "11:\troot = 1.364746094\n",
      "12:\troot = 1.364990234\n",
      "13:\troot = 1.365112305\n",
      "14:\troot = 1.365173340\n",
      "15:\troot = 1.365203857\n",
      "16:\troot = 1.365219116\n",
      "17:\troot = 1.365226746\n",
      "18:\troot = 1.365230560\n",
      "19:\troot = 1.365228653\n",
      "20:\troot = 1.365229607\n",
      "21:\troot = 1.365230083\n",
      "22:\troot = 1.365229845\n",
      "23:\troot = 1.365229964\n"
     ]
    }
   ],
   "source": [
    "bisection_method(1,2)"
   ]
  },
  {
   "cell_type": "code",
   "execution_count": null,
   "metadata": {},
   "outputs": [],
   "source": []
  }
 ],
 "metadata": {
  "kernelspec": {
   "display_name": "Python 3.6.8 64-bit",
   "language": "python",
   "name": "python36864bita1db1c83d908435e9cdbf86dec23a524"
  },
  "language_info": {
   "codemirror_mode": {
    "name": "ipython",
    "version": 3
   },
   "file_extension": ".py",
   "mimetype": "text/x-python",
   "name": "python",
   "nbconvert_exporter": "python",
   "pygments_lexer": "ipython3",
   "version": "3.6.8"
  }
 },
 "nbformat": 4,
 "nbformat_minor": 2
}
